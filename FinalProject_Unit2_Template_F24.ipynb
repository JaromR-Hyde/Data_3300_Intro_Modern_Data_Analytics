{
  "nbformat": 4,
  "nbformat_minor": 0,
  "metadata": {
    "colab": {
      "provenance": []
    },
    "kernelspec": {
      "name": "python3",
      "display_name": "Python 3"
    },
    "language_info": {
      "name": "python"
    }
  },
  "cells": [
    {
      "cell_type": "markdown",
      "source": [
        "# **Final Project - Unit 2**\n",
        "\n",
        "## Name: INSERT YOUR NAME HERE\n",
        "## *DATA 3300*\n",
        "\n",
        "## Final Project Description\n",
        "\n",
        "The Final Project in this course is broken into three units, corresponding to the three units in the course. By the end of the course, each student will have completed a comprehensive final project on data preparation, data understanding, and data modeling. The final portion of the project will include an executive write-up on the comprehensive final project you will have completed.\n",
        "\n",
        "## Introduction\n",
        "\n",
        "For this final project, we will take on the role of consultants for Aggie Investments, a Real Estate Investment Firm. In recent years, there has been a significant trend among investment firms to acquire properties for use as rental assets. While various geographies have been proposed, our focus is to assess the opportunities within a specific, rapidly growing market—Nashville, Tennessee.\n",
        "\n",
        "Our task is to analyze a provided dataset containing information on current Airbnb listings in the Nashville area. The objective is to explore the data comprehensively and provide informed recommendations to Aggie Investments regarding the potential of entering this market, the types of listings they should acquire, and how they should manage those listings. The project will involve data preparation, exploration, and the application of unsupervised machine learning models to uncover deeper insights and patterns within the data. These findings will guide our final recommendations to the firm.\n",
        "\n",
        "---\n",
        "\\\\\n",
        "### **Unit 2**:\n",
        "\n",
        "In **Unit 2**, you learned how to describe and visualize data for the purpose of exploratory data analysis (EDA), as well as how to identify and handle missing data and outliers. **In this next portion of the final project, you will apply these concepts to `data3300_airbnb_data_clean_nashville.csv`, a cleaned version of our original dataset to begin exploring patterns in the dataset as well as address any issues related to missing data or outliers.** These steps will get you prepared for the Unit 3 portion, where you will begin modeling the data!\n",
        "\n",
        "Begin by loading in the necessary dependencies and reading in the cleaned airbnb nashville dataset.\n"
      ],
      "metadata": {
        "id": "DBsBbrbjwayQ"
      }
    },
    {
      "cell_type": "code",
      "source": [
        "# replace with code to import the libraries and packages required to import data, manipulate dataframes, and produce plots (visualize data)\n",
        "\n",
        "import warnings\n",
        "warnings.filterwarnings(\"ignore\")"
      ],
      "metadata": {
        "id": "9oKXuNyhL8fD"
      },
      "execution_count": null,
      "outputs": []
    },
    {
      "cell_type": "code",
      "source": [
        "# replace with code to import cleaned Airbnb Dataset, call your dataset df2\n",
        "df2 ="
      ],
      "metadata": {
        "id": "_b2MRsIBb6h-"
      },
      "execution_count": null,
      "outputs": []
    },
    {
      "cell_type": "markdown",
      "source": [
        "### Q 0.5) **Review your variables**\n",
        "\n",
        "Consider the objective of Aggie Investments, then list the top three variables you believe will be most important in the analysis, briefly explaining why each of these three could be particularly important (there are no wrong answers, but make sure you explain your logic for full points)."
      ],
      "metadata": {
        "id": "dt4NKTwICj-I"
      }
    },
    {
      "cell_type": "markdown",
      "source": [
        "1.   List item\n",
        "2.   List item\n",
        "3.\n"
      ],
      "metadata": {
        "id": "EbhYA8y0Ckt8"
      }
    },
    {
      "cell_type": "markdown",
      "source": [
        "## **Part 1: Descriptive Statistics**\n",
        "\n",
        "\n",
        "### **A) Observation of Descriptive Statistics**\n",
        "\n",
        "In order for us to be able to understand our dataset, and begin to build recommendations for the firm we need to understand our data.\n",
        "\n",
        "Explore the descriptive statistics from our dataset. Compare and describe three different observations made from your exploration of the descriptive statistics. Why could these be of interest to Aggie Investments? Provide the specific descriptive statistic (e.g., the mean 365_availability is 50 days) you are using in your observation and be clear why this statistic could be of importance. Some of these observations could potentially be used in your recommendations to the firm.\n",
        "\n",
        "**Hint:** Consider the variables you listed as important above, if they are quantitative you can describe them, if they are qualitative, you can use them as a grouping variables on other quantitative variables!\n",
        "\n",
        "*If you need some reminders about how to do this, revisit the data understanding module!*\n"
      ],
      "metadata": {
        "id": "G9Nyy7B2qXl7"
      }
    },
    {
      "cell_type": "markdown",
      "source": [
        "### **Observation A.1**"
      ],
      "metadata": {
        "id": "ibu7OsDjdOuj"
      }
    },
    {
      "cell_type": "code",
      "source": [
        "# replace with the code to examine descriptive statistics, hint: it may be particularly insightful to group the descriptive stats by different qualitative variables"
      ],
      "metadata": {
        "id": "_Tg0JQiHdOP1"
      },
      "execution_count": null,
      "outputs": []
    },
    {
      "cell_type": "markdown",
      "source": [
        "[Replace this text with your observations]\n"
      ],
      "metadata": {
        "id": "GyDW8wlxfypB"
      }
    },
    {
      "cell_type": "markdown",
      "source": [
        "### **Observation A.2**"
      ],
      "metadata": {
        "id": "etw88mTSdceb"
      }
    },
    {
      "cell_type": "code",
      "source": [
        "# replace with the code to examine a different descriptive stat for observation 2"
      ],
      "metadata": {
        "id": "PW8vNny-dcec"
      },
      "execution_count": null,
      "outputs": []
    },
    {
      "cell_type": "markdown",
      "source": [
        "[Replace this text with your observations]\n"
      ],
      "metadata": {
        "id": "7dWw73QSf1mH"
      }
    },
    {
      "cell_type": "markdown",
      "source": [
        "### **Observation A.3**"
      ],
      "metadata": {
        "id": "cb47UX5Ndcn0"
      }
    },
    {
      "cell_type": "code",
      "source": [
        "# replace with the code to examine a different descriptive stat for observation 3"
      ],
      "metadata": {
        "id": "gsj36yVJdcn1"
      },
      "execution_count": null,
      "outputs": []
    },
    {
      "cell_type": "markdown",
      "source": [
        "[Replace this text with your observations]\n"
      ],
      "metadata": {
        "id": "ebVOQ0bff2A_"
      }
    },
    {
      "cell_type": "markdown",
      "source": [
        "### **B) Hypothesize**\n",
        "\n",
        "Take two observations from above and provide a hypothesis as to the reason these patterns may exist. Note which observations you are referring to and provide a logical hypothesis for each."
      ],
      "metadata": {
        "id": "NsluLSbuC4VA"
      }
    },
    {
      "cell_type": "markdown",
      "source": [
        "* **Hypothesis B.1:**\n",
        "* **Hypothesis B.2:**\n",
        "\n"
      ],
      "metadata": {
        "id": "cnuwUnCiDKHw"
      }
    },
    {
      "cell_type": "markdown",
      "source": [
        "## **Part 2: Data Visualizations**\n",
        "\n",
        "### **B**\n",
        "### **Data Visualizations**\n",
        "\n",
        "The next phase in our data analysis involves constructing data visualizations to deepen our understanding of the dataset. You are required to create three distinct data visualizations, ensuring that each one represents a different type of visualization.\n",
        "\n",
        "**These visualizations should reflect either the above observations or hypotheses you provided.** Use this as an opportunity to produce a visual story that sheds light on/communicates a critical observation for Aggie Investments or highlights a hypothesis that is worth exploring further (say, in Unit 3).\n",
        "\n",
        "You may use existing categories within the dataset or generate new categories from numerical variables. **After each visualization, provide a detailed interpretation of the insights it reveals and discuss how these insights could be leveraged in formulating our recommendations to Aggie Investments.**"
      ],
      "metadata": {
        "id": "i7WoY-wEeRwC"
      }
    },
    {
      "cell_type": "markdown",
      "source": [
        "### **A) Visualization 1**"
      ],
      "metadata": {
        "id": "ts7V0p_-eRwD"
      }
    },
    {
      "cell_type": "code",
      "source": [
        "# replace with the code used for visualization 1"
      ],
      "metadata": {
        "id": "XpJFHZVqeRwD"
      },
      "execution_count": null,
      "outputs": []
    },
    {
      "cell_type": "markdown",
      "source": [
        "**Insights:**\n"
      ],
      "metadata": {
        "id": "J56iaNfefoix"
      }
    },
    {
      "cell_type": "markdown",
      "source": [
        "### **B) Visualization 2**"
      ],
      "metadata": {
        "id": "OBMgnHcTeRwE"
      }
    },
    {
      "cell_type": "code",
      "source": [
        "# replace with the code used for visualization 2"
      ],
      "metadata": {
        "id": "jfl8kKg4eRwE"
      },
      "execution_count": null,
      "outputs": []
    },
    {
      "cell_type": "markdown",
      "source": [
        "**Insights:**"
      ],
      "metadata": {
        "id": "XhEPMduBfv8V"
      }
    },
    {
      "cell_type": "markdown",
      "source": [
        "### **C) Visualization 3**"
      ],
      "metadata": {
        "id": "FRv73WcneRwE"
      }
    },
    {
      "cell_type": "code",
      "source": [
        "# replace with the code used for visualization 3"
      ],
      "metadata": {
        "id": "P1yM_-4leRwE"
      },
      "execution_count": null,
      "outputs": []
    },
    {
      "cell_type": "markdown",
      "source": [
        "**Insights:**"
      ],
      "metadata": {
        "id": "fUZq0DpFfwd3"
      }
    },
    {
      "cell_type": "markdown",
      "source": [
        "## **Part 3: Outliers \\& Missing Data**\n",
        "\n",
        "\n",
        "\n"
      ],
      "metadata": {
        "id": "BL09S2Qtf7U3"
      }
    },
    {
      "cell_type": "markdown",
      "source": [
        "\n",
        "### **A) Addressing Missing Data**\n",
        "\n",
        "In this section you will focus on identifying and addressing missing data within our Airbnb listing dataset. Begin by conducting a thorough analysis to identify any missing values across the dataset. Once identified, discuss the potential impact of these missing values on our analysis and the validity of our findings.\n",
        "\n",
        "Next, apply appropriate techniques to handle the missing data. You may choose methods such as imputation, deletion, or any other technique that best suits the nature of the data and the context of the analysis. Justify your chosen approach, explaining why it is the most suitable for this dataset. Finally, document the steps taken and reflect on how your handling of missing data will influence the overall analysis and recommendations to Aggie Investments.\n",
        "\n",
        "*If you need a reminder on approaches for identifying and handling missing values and outliers, revisit the Outliers and Missing Data module*"
      ],
      "metadata": {
        "id": "EvjpTzw50Kfh"
      }
    },
    {
      "cell_type": "markdown",
      "source": [
        "**1) First, create a Heatmap of Missing Values within the Dataset:**"
      ],
      "metadata": {
        "id": "OSOuJAikgtgO"
      }
    },
    {
      "cell_type": "code",
      "source": [
        "# replace with code to produce heatmap of missing (and non missing) data"
      ],
      "metadata": {
        "id": "ay6xep_Vgz05"
      },
      "execution_count": null,
      "outputs": []
    },
    {
      "cell_type": "markdown",
      "source": [
        "**2) List which variables within the dataset contain missing values, as well as the percentage of data that is missing for that variable. *Hint: If there are any groupings of similar missing variables that share the same proportion of misisng data, you can list them as one group, instead of all individually*.**\n",
        "\n"
      ],
      "metadata": {
        "id": "EnAQ9kqehEFg"
      }
    },
    {
      "cell_type": "code",
      "source": [
        "# fill in the variable(s) you want to examine the missing values of\n",
        "percent_missing = df2['insert var'].isnull().sum() * 100 / len(df2['insert same var'])\n",
        "print(f'{percent_missing:.2f}%')"
      ],
      "metadata": {
        "id": "XCxu78Gd-CWi"
      },
      "execution_count": null,
      "outputs": []
    },
    {
      "cell_type": "markdown",
      "source": [
        "* Missing var name and percent missing\n",
        "* Missing var name and percent missing\n",
        "* Add as necessary\n",
        "\n",
        "\n"
      ],
      "metadata": {
        "id": "BtFhwsl6oFis"
      }
    },
    {
      "cell_type": "markdown",
      "source": [
        "**3) Are there any variables with complete data (no missing values) that could be related to the missingness seen in the multitude of *review* variables with missing data? If so, what does this indicate about the type of missing data these variables have?**"
      ],
      "metadata": {
        "id": "EwEP15gmoNtZ"
      }
    },
    {
      "cell_type": "markdown",
      "source": [],
      "metadata": {
        "id": "6lY51VTwoRdZ"
      }
    },
    {
      "cell_type": "code",
      "source": [
        "# replace with code to compare the complete variable against one or more missing variables to confirm your above statement"
      ],
      "metadata": {
        "id": "87njlHbPpEYs"
      },
      "execution_count": null,
      "outputs": []
    },
    {
      "cell_type": "markdown",
      "source": [
        "**4) Proposed Type of Missing Data:**\n",
        "\n",
        "**Fill in the variables you believe fall under each type of missing data (it's fine if some missing data categories have no variables listed), and then briefly explain below why you think those variables are structurally missing, MCAR, MAR, or MNAR.**\n",
        "\n"
      ],
      "metadata": {
        "id": "GplQTm6SoXbj"
      }
    },
    {
      "cell_type": "markdown",
      "source": [
        "* Structurally Missing Variables:\n",
        "* Missing Completely at Random Variables:\n",
        "* Missing at Random Variables:\n",
        "* Missing not at Random Variables:\n",
        "\n",
        "**Explanation**:"
      ],
      "metadata": {
        "id": "TWakSJeWBhmL"
      }
    },
    {
      "cell_type": "markdown",
      "source": [
        "**5) Replacing Missing Values:**\n",
        "\n",
        "**Start with the variables that have structurally missing data. What is an acceptable value (or set of values) to fill in for these observations, given that the data are structurally missing?**\n",
        "\n"
      ],
      "metadata": {
        "id": "2MBEpSYjhe-T"
      }
    },
    {
      "cell_type": "markdown",
      "source": [],
      "metadata": {
        "id": "uJmJ30lYp5iG"
      }
    },
    {
      "cell_type": "markdown",
      "source": [
        "**Based on your explanation above, proceed with filling the missing values for your structurally missing variables below:**"
      ],
      "metadata": {
        "id": "2YpUOEnJHc0E"
      }
    },
    {
      "cell_type": "code",
      "source": [
        "# this code can be used to fill in NaNs in all the columns starting with 'review_scores'\n",
        "\n",
        "review_scores_cols = [col for col in df2.columns if col.startswith('review_scores_')]\n",
        "for col in review_scores_cols:\n",
        "  df2[col].fillna('insert value or text label here', inplace=True) # insert the value or text label you'd like to replace NaNs with here"
      ],
      "metadata": {
        "id": "CGqwZluNEy6s"
      },
      "execution_count": null,
      "outputs": []
    },
    {
      "cell_type": "code",
      "source": [
        "# replace with code used for addressing any additional structurally missing values"
      ],
      "metadata": {
        "id": "uqCVLl6rjUXD"
      },
      "execution_count": null,
      "outputs": []
    },
    {
      "cell_type": "markdown",
      "source": [
        "**6) Next, address any variables that have data that are MCAR or MAR. What differentiates variables that are missing *completely* at random (MCAR) from those missing at random?**"
      ],
      "metadata": {
        "id": "PT_lDBRqjhOv"
      }
    },
    {
      "cell_type": "markdown",
      "source": [],
      "metadata": {
        "id": "WRapvCqFqMcW"
      }
    },
    {
      "cell_type": "markdown",
      "source": [
        "**7) Use the code cells below to investigate any patterns of missingness for variables you think are MAR. *Hint: try plotting the relationship between missingness of the given variables against complete variables you think could influence missingness.***"
      ],
      "metadata": {
        "id": "zsv6tLxJxZyF"
      }
    },
    {
      "cell_type": "code",
      "source": [
        "\"\"\"replace with code used for plotting missingness of one variable against the values of different complete variables\n",
        "   Here is one example for `price` against `host_has_profile_pic`, you can copy this code into additional code cells to check multiple variables!\"\"\"\n",
        "\n",
        "# Calculate the percentage of missing values in 'price' for each 'host_has_profile_pic' category\n",
        "percentage_missing = df2.groupby('host_has_profile_pic')['price'].apply(lambda x: x.isnull().sum() / len(x) * 100)\n",
        "\n",
        "# Create a bar plot\n",
        "plt.figure(figsize=(10, 6))\n",
        "percentage_missing.plot(kind='bar')\n",
        "plt.xlabel('Does the Host have a Profile Pic?')\n",
        "plt.ylabel('Percentage of Missing Prices')\n",
        "plt.title('Relationship between Host Profile Pic and Missing Prices')\n",
        "plt.xticks(rotation=0)\n",
        "plt.tight_layout()\n",
        "plt.show()"
      ],
      "metadata": {
        "id": "jpWjpVgOqNPA"
      },
      "execution_count": null,
      "outputs": []
    },
    {
      "cell_type": "markdown",
      "source": [
        "**8) Can you note any patterns to the missingness of these variables that could further indicate they are MAR?**"
      ],
      "metadata": {
        "id": "AW1DVGizyVRW"
      }
    },
    {
      "cell_type": "markdown",
      "source": [
        "* Notes about Price\n",
        "* Notes about air quality"
      ],
      "metadata": {
        "id": "s1oX53z1ykCh"
      }
    },
    {
      "cell_type": "markdown",
      "source": [
        "**9) How should MAR observations be handled? How will you proceed based on your findings above?**"
      ],
      "metadata": {
        "id": "6sVeguKVyni4"
      }
    },
    {
      "cell_type": "markdown",
      "source": [],
      "metadata": {
        "id": "Kch7NN6tyzqR"
      }
    },
    {
      "cell_type": "markdown",
      "source": [
        "### **B) Identifying \\& Addressing Outliers for Handling Missing Data**\n",
        "\n",
        "**1) Before we can peform any imputation, let's make sure we don't have outliers first. Note down any variables we will be imputing that also containing outliers below...**\n",
        "\n"
      ],
      "metadata": {
        "id": "roBEv8Ej0_0u"
      }
    },
    {
      "cell_type": "markdown",
      "source": [
        "* Var 1...\n",
        "* Var 2..."
      ],
      "metadata": {
        "id": "v5_l_Cd491eM"
      }
    },
    {
      "cell_type": "code",
      "source": [
        "# replace with code to check variables for outliers"
      ],
      "metadata": {
        "id": "C0J1Ae2zT-qD"
      },
      "execution_count": null,
      "outputs": []
    },
    {
      "cell_type": "markdown",
      "source": [
        "**2) How can you address these outliers before proceeding with handling your missing data values?**"
      ],
      "metadata": {
        "id": "F0aDJV9m1fEX"
      }
    },
    {
      "cell_type": "markdown",
      "source": [],
      "metadata": {
        "id": "iwI9e5VI1sl0"
      }
    },
    {
      "cell_type": "code",
      "source": [
        "# replace with code to transform outliers for first variable"
      ],
      "metadata": {
        "id": "1dA4VbH51txT"
      },
      "execution_count": null,
      "outputs": []
    },
    {
      "cell_type": "markdown",
      "source": [
        "**3) Did transforming the variable change the distribution? Is it roughly normal (yes or no), and what does that mean in terms of performing a simple imputation?**"
      ],
      "metadata": {
        "id": "28TOnU773_v8"
      }
    },
    {
      "cell_type": "markdown",
      "source": [],
      "metadata": {
        "id": "TLw9SH1T4NYC"
      }
    },
    {
      "cell_type": "markdown",
      "source": [
        "**4) Perform Imputation (simple or multiple) for the first variable below:**"
      ],
      "metadata": {
        "id": "9yfiUWsVII6u"
      }
    },
    {
      "cell_type": "code",
      "source": [
        "# replace with code to remove or impute first variable observations with missing data"
      ],
      "metadata": {
        "id": "_Lx4cIMxy0GG"
      },
      "execution_count": null,
      "outputs": []
    },
    {
      "cell_type": "markdown",
      "source": [
        "**5) Perform Imputation (simple or multiple) for the second variable below:**"
      ],
      "metadata": {
        "id": "bZGJIueLIL0t"
      }
    },
    {
      "cell_type": "code",
      "source": [
        "# repeat with additional variables, consider what type of imputation is appropriate given the data distribution AND patterns of missingness"
      ],
      "metadata": {
        "id": "TuZWQfm54USH"
      },
      "execution_count": null,
      "outputs": []
    },
    {
      "cell_type": "markdown",
      "source": [
        "**6) Are there any variables that could potentially be MNAR? When data are MNAR, what can be done about it?**"
      ],
      "metadata": {
        "id": "EYekDp5rqSeU"
      }
    },
    {
      "cell_type": "markdown",
      "source": [],
      "metadata": {
        "id": "aKOg83SSqbET"
      }
    },
    {
      "cell_type": "markdown",
      "source": [
        "\n",
        "### **C) Additional Outliers**\n",
        "\n",
        "**Identify any remaining outliers by using a grid of boxplots. Then, choose two variables with outliers to either transform or discretize. For each variable, explain what step you took and whether the step was successful in addressing the presence (of at least extreme) outliers.**"
      ],
      "metadata": {
        "id": "FLOo7yJhjt8w"
      }
    },
    {
      "cell_type": "markdown",
      "source": [
        "**1) List the two variables you identified as having outliers that you want to transform/discretize here:**\n",
        "\n",
        "* Var 1\n",
        "* Var 2"
      ],
      "metadata": {
        "id": "m1fPH_Lb9m3i"
      }
    },
    {
      "cell_type": "code",
      "source": [
        "# this code creates a grid of boxplots for the int and float variables\n",
        "\n",
        "# Select numerical columns\n",
        "numerical_cols = df2.select_dtypes(include=['int64', 'float64']).columns\n",
        "\n",
        "# Create a grid of boxplots\n",
        "plt.figure(figsize=(20, 15))\n",
        "for i, col in enumerate(numerical_cols):\n",
        "  plt.subplot(5, 5, i+1)\n",
        "  sns.boxplot(x=df2[col])\n",
        "  plt.title(col)\n",
        "plt.tight_layout()\n",
        "plt.show()"
      ],
      "metadata": {
        "id": "rZzTAT0uYqgu"
      },
      "execution_count": null,
      "outputs": []
    },
    {
      "cell_type": "markdown",
      "source": [
        "**2) Perform a transformation/discretization on your first selected variable below, explain what step you took and whether it has reduced/fixed your outliers for this variable (hint: you can check with a boxplot or histogram to confirm).**"
      ],
      "metadata": {
        "id": "dVnGmcLb_ikb"
      }
    },
    {
      "cell_type": "code",
      "source": [
        "# replace with code needed for addressing variable 1 with outliers"
      ],
      "metadata": {
        "id": "p39u70QAkwX8"
      },
      "execution_count": null,
      "outputs": []
    },
    {
      "cell_type": "markdown",
      "source": [
        "**Explanation of steps taken and whether the steps worked**:"
      ],
      "metadata": {
        "id": "plAno2H9kzow"
      }
    },
    {
      "cell_type": "markdown",
      "source": [
        "**3) Perform a transformation or discretization on your second selected variable. Explain what step you took and whether it has reduced/fixed your outliers for this variable (hint: you can check with a boxplot or histogram to confirm).**"
      ],
      "metadata": {
        "id": "KtGOHe1s_n8T"
      }
    },
    {
      "cell_type": "code",
      "source": [
        "# replace with code needed for addressing variable 2 with outliers"
      ],
      "metadata": {
        "id": "OiJ__fxVYnWP"
      },
      "execution_count": null,
      "outputs": []
    },
    {
      "cell_type": "markdown",
      "source": [
        "**Explanation of steps taken and whether the steps worked**:"
      ],
      "metadata": {
        "id": "wYtshWPRYp-3"
      }
    },
    {
      "cell_type": "markdown",
      "source": [
        "### **D) Guiding Next Steps**\n",
        "\n",
        "**You are about to pass off this data for its next steps in modeling. 1) What should the data team know about problems you encountered in the dataset, and how you handled these issues? 2) Are there any unresolved issues they should be aware of? 3) Finally, provide a brief explanation from Parts 1 and 2 regarding interesting observations or hypotheses you noted, that they should continue to explore as they begin modeling.**"
      ],
      "metadata": {
        "id": "XhTNtdY_4yYs"
      }
    },
    {
      "cell_type": "markdown",
      "source": [
        "\n",
        "\n",
        "* 1)   \n",
        "* 2)   \n",
        "* 3)\n",
        "\n"
      ],
      "metadata": {
        "id": "6tBZig065CY_"
      }
    },
    {
      "cell_type": "code",
      "source": [
        "# export your finalized dataset and turn in with your submission!"
      ],
      "metadata": {
        "id": "6yXE4YVJ6Rvb"
      },
      "execution_count": null,
      "outputs": []
    }
  ]
}